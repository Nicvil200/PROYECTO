{
 "cells": [
  {
   "cell_type": "markdown",
   "metadata": {},
   "source": [
    "<center>\n",
    "    <img src=\"https://cf-courses-data.s3.us.cloud-object-storage.appdomain.cloud/IBMDeveloperSkillsNetwork-DS0105EN-SkillsNetwork/labs/Module2/images/SN_web_lightmode.png\" width=\"300\" alt=\"cognitiveclass.ai logo\">\n",
    "</center>\n"
   ]
  },
  {
   "cell_type": "markdown",
   "metadata": {},
   "source": [
    "#### Add your code below following the instructions given in the course\n"
   ]
  },
  {
   "cell_type": "markdown",
   "metadata": {},
   "source": [
    "# Proyecto Final - Introducción a las Herramientas de Ciencia de Datos"
   ]
  },
  {
   "cell_type": "markdown",
   "metadata": {},
   "source": [
    "## Introducción\n",
    "\n",
    "Este cuaderno forma parte del proyecto final del curso. Aquí se presentan conceptos clave de la ciencia de datos, incluyendo lenguajes, bibliotecas, herramientas y ejemplos prácticos en código.\n"
   ]
  },
  {
   "cell_type": "markdown",
   "metadata": {},
   "source": [
    "## Lenguajes de Programación para Ciencia de Datos\n",
    "\n",
    "Algunos de los lenguajes más utilizados en ciencia de datos son:\n",
    "\n",
    "- Python\n",
    "- R\n",
    "- SQL\n",
    "- Julia"
   ]
  },
  {
   "cell_type": "markdown",
   "metadata": {},
   "source": [
    "## Bibliotecas Populares en Ciencia de Datos\n",
    "\n",
    "Estas son algunas bibliotecas ampliamente utilizadas:\n",
    "\n",
    "- Pandas\n",
    "- NumPy\n",
    "- Matplotlib\n",
    "- Scikit-learn\n",
    "- TensorFlow\n"
   ]
  },
  {
   "cell_type": "markdown",
   "metadata": {},
   "source": [
    "## Herramientas de Ciencia de Datos\n",
    "\n",
    "| Herramienta           | Tipo                  |\n",
    "|------------------------|-----------------------|\n",
    "| Jupyter Notebook       | Entorno de desarrollo |\n",
    "| RStudio                | IDE                   |\n",
    "| Apache Spark           | Procesamiento de datos|\n",
    "| TensorFlow             | Framework de ML       |\n",
    "| GitHub                 | Control de versiones  |\n"
   ]
  },
  {
   "cell_type": "markdown",
   "metadata": {},
   "source": [
    "## Ejemplos de Expresiones Aritméticas\n",
    "\n",
    "# Algunos ejemplos simples de operaciones aritméticas en código:\n",
    "\n",
    "- Suma =3 + 5\n",
    "- Multiplicación: `4 * 7`\n",
    "- División: `10 / 2`\n",
    "- Potencia: `2 ** 3`\n"
   ]
  },
  {
   "cell_type": "code",
   "execution_count": 2,
   "metadata": {},
   "outputs": [
    {
     "name": "stdout",
     "output_type": "stream",
     "text": [
      "Resultado: 23\n"
     ]
    }
   ],
   "source": [
    "# Multiplicación y suma\n",
    "resultado = (5 * 4) + 3\n",
    "print(\"Resultado:\", resultado)\n"
   ]
  },
  {
   "cell_type": "code",
   "execution_count": 3,
   "metadata": {},
   "outputs": [
    {
     "name": "stdout",
     "output_type": "stream",
     "text": [
      "150 minutos equivalen a 2.5 horas\n"
     ]
    }
   ],
   "source": [
    "# Conversión de minutos a horas\n",
    "minutos = 150\n",
    "horas = minutos / 60\n",
    "print(f\"{minutos} minutos equivalen a {horas} horas\")\n"
   ]
  },
  {
   "cell_type": "code",
   "execution_count": 4,
   "metadata": {},
   "outputs": [
    {
     "name": "stdout",
     "output_type": "stream",
     "text": [
      "- Aprender herramientas clave de ciencia de datos\n",
      "- Familiarizarse con Jupyter Notebooks\n",
      "- Practicar expresiones aritméticas en código\n",
      "- Compartir proyectos en GitHub\n"
     ]
    }
   ],
   "source": [
    "# Lista de objetivos del curso\n",
    "objetivos = [\n",
    "    \"Aprender herramientas clave de ciencia de datos\",\n",
    "    \"Familiarizarse con Jupyter Notebooks\",\n",
    "    \"Practicar expresiones aritméticas en código\",\n",
    "    \"Compartir proyectos en GitHub\"\n",
    "]\n",
    "\n",
    "for objetivo in objetivos:\n",
    "    print(\"-\", objetivo)\n"
   ]
  },
  {
   "cell_type": "markdown",
   "metadata": {},
   "source": [
    "## Autor\n",
    "\n",
    "**Nombre:** [NICANOR VENTURA]  \n",
    "**Fecha:** [28/06/2025]\n"
   ]
  },
  {
   "cell_type": "code",
   "execution_count": null,
   "metadata": {},
   "outputs": [],
   "source": []
  }
 ],
 "metadata": {
  "kernelspec": {
   "display_name": "Python 3 (ipykernel)",
   "language": "python",
   "name": "python3"
  },
  "language_info": {
   "codemirror_mode": {
    "name": "ipython",
    "version": 3
   },
   "file_extension": ".py",
   "mimetype": "text/x-python",
   "name": "python",
   "nbconvert_exporter": "python",
   "pygments_lexer": "ipython3",
   "version": "3.12.8"
  }
 },
 "nbformat": 4,
 "nbformat_minor": 4
}
